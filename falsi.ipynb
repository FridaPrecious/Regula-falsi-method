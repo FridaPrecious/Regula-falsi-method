{
 "cells": [
  {
   "cell_type": "code",
   "execution_count": 9,
   "metadata": {},
   "outputs": [
    {
     "name": "stdout",
     "output_type": "stream",
     "text": [
      "The value of root is :  -13.101195\n"
     ]
    }
   ],
   "source": [
    "def f( x ):\n",
    "    return 2 * x**3 - 2 * x - 5\n",
    "\n",
    "# The intial values are assumed\n",
    "a =-100\n",
    "b = 200\n",
    "\n",
    "#maximum iterations\n",
    "max_iteration = 100;\n",
    "\n",
    "# Prints the root of f(x) in the interval [a, b]\n",
    "def regulaFalsi( a , b):\n",
    "    if f(a) * f(b) >= 0:\n",
    "        print(\"a and be are not rightly assumed\")\n",
    "        return -1\n",
    "     \n",
    "    c = a # Initializing the result\n",
    "     \n",
    "    for i in range(max_iteration):\n",
    "         \n",
    "        # Finding the point that touches x-axis\n",
    "        c = (a * f(b) - b * f(a))/ (f(b) - f(a))\n",
    "         \n",
    "        # Checking if the point found above is the root\n",
    "        if f(c) == 0:\n",
    "            break\n",
    "         \n",
    "        # Deciding the side to repeat the steps\n",
    "        elif f(c) * f(a) < 0:\n",
    "            b = c\n",
    "        else:\n",
    "            a = c\n",
    "    print(\"The value of root is : \" , '%.6f' %c)\n",
    "\n",
    "regulaFalsi(a,b)  \n"
   ]
  }
 ],
 "metadata": {
  "kernelspec": {
   "display_name": "Python 3",
   "language": "python",
   "name": "python3"
  },
  "language_info": {
   "codemirror_mode": {
    "name": "ipython",
    "version": 3
   },
   "file_extension": ".py",
   "mimetype": "text/x-python",
   "name": "python",
   "nbconvert_exporter": "python",
   "pygments_lexer": "ipython3",
   "version": "3.11.2"
  },
  "orig_nbformat": 4
 },
 "nbformat": 4,
 "nbformat_minor": 2
}
