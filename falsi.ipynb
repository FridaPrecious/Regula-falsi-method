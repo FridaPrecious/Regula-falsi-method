{
 "cells": [
  {
   "cell_type": "code",
   "execution_count": 1,
   "metadata": {},
   "outputs": [],
   "source": [
    "def regula_falsi(f, a, b, tol=1e-6, max_iter=100):\n",
    "    \"\"\"Solve f(x) = 0 using the regula falsi method.\"\"\"\n",
    "    fa, fb = f(a), f(b)\n",
    "    if fa * fb > 0:\n",
    "        raise ValueError(\"f(a) and f(b) must have opposite signs\")\n",
    "    for i in range(max_iter):\n",
    "        c = (a * fb - b * fa) / (fb - fa)\n",
    "        fc = f(c)\n",
    "        if abs(fc) < tol:\n",
    "            return c\n",
    "        if fa * fc < 0:\n",
    "            b, fb = c, fc\n",
    "        else:\n",
    "            a, fa = c, fc\n",
    "    raise RuntimeError(\"regula falsi method did not converge\")\n",
    "\n"
   ]
  },
  {
   "cell_type": "code",
   "execution_count": 3,
   "metadata": {},
   "outputs": [
    {
     "name": "stdout",
     "output_type": "stream",
     "text": [
      "root = 1.600598517920048\n",
      "f(root) = -3.6121182667159246e-07\n"
     ]
    }
   ],
   "source": [
    "def f(x):\n",
    "    return 2 * x**3 - 2 * x - 5\n",
    "\n",
    "# Solve f(x) = 0 using regula falsi with initial interval [1, 2]\n",
    "root = regula_falsi(f, 1, 2)\n",
    "\n",
    "print(\"root =\", root)\n",
    "print(\"f(root) =\", f(root))\n"
   ]
  },
  {
   "cell_type": "code",
   "execution_count": null,
   "metadata": {},
   "outputs": [],
   "source": []
  }
 ],
 "metadata": {
  "kernelspec": {
   "display_name": "Python 3",
   "language": "python",
   "name": "python3"
  },
  "language_info": {
   "codemirror_mode": {
    "name": "ipython",
    "version": 3
   },
   "file_extension": ".py",
   "mimetype": "text/x-python",
   "name": "python",
   "nbconvert_exporter": "python",
   "pygments_lexer": "ipython3",
   "version": "3.11.2"
  },
  "orig_nbformat": 4
 },
 "nbformat": 4,
 "nbformat_minor": 2
}
